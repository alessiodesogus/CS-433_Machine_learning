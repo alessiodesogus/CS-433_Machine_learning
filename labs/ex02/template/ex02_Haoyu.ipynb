{
 "cells": [
  {
   "cell_type": "code",
   "execution_count": 1,
   "metadata": {},
   "outputs": [],
   "source": [
    "# Useful starting lines\n",
    "%matplotlib inline\n",
    "import numpy as np\n",
    "import matplotlib.pyplot as plt\n",
    "\n",
    "%load_ext autoreload\n",
    "%autoreload 2"
   ]
  },
  {
   "cell_type": "markdown",
   "metadata": {},
   "source": [
    "# Load the data"
   ]
  },
  {
   "cell_type": "code",
   "execution_count": 2,
   "metadata": {},
   "outputs": [],
   "source": [
    "import datetime\n",
    "from helpers import *\n",
    "\n",
    "height, weight, gender = load_data(sub_sample=False, add_outlier=False)\n",
    "x, mean_x, std_x = standardize(height)\n",
    "y, tx = build_model_data(x, weight)"
   ]
  },
  {
   "cell_type": "code",
   "execution_count": 3,
   "metadata": {},
   "outputs": [
    {
     "data": {
      "text/plain": [
       "(array([1.84617543, 1.7195476 , 1.85275263, ..., 1.59669981, 1.72585608,\n",
       "        1.54860615]),\n",
       " array([109.81967768,  73.68895452,  96.58434842, ...,  58.32779473,\n",
       "         74.38901745,  51.59669261]),\n",
       " array([0, 0, 0, ..., 1, 1, 1]))"
      ]
     },
     "execution_count": 3,
     "metadata": {},
     "output_type": "execute_result"
    }
   ],
   "source": [
    "height, weight, gender"
   ]
  },
  {
   "cell_type": "code",
   "execution_count": 4,
   "metadata": {},
   "outputs": [
    {
     "data": {
      "text/plain": [
       "((10000,), (10000, 2))"
      ]
     },
     "execution_count": 4,
     "metadata": {},
     "output_type": "execute_result"
    }
   ],
   "source": [
    "y.shape, tx.shape"
   ]
  },
  {
   "cell_type": "markdown",
   "metadata": {},
   "source": [
    "### NB: throughout this laboratory the data has the following format: \n",
    "  * there are **N = 10000** data entries\n",
    "  * **y** represents the column vector containing weight information -- that which we wish to predict/the output (see also the first page of $\\texttt{exercise02.pdf}$). Its **shape** is **(N,)**.\n",
    "  * **tx** represents the matrix $\\tilde{X}$ formed by laterally concatenating a column vector of 1s to the column vector of height information -- the input data (see also the first page of $\\texttt{exercise02.pdf}$). Its **shape** is **(N,2)**."
   ]
  },
  {
   "cell_type": "markdown",
   "metadata": {},
   "source": [
    "# 1. Computing the Cost Function\n",
    "Fill in the `compute_loss` function below:"
   ]
  },
  {
   "cell_type": "code",
   "execution_count": 5,
   "metadata": {},
   "outputs": [],
   "source": [
    "def compute_loss(y, tx, w):\n",
    "    \"\"\"Calculate the loss using either MSE or MAE.\n",
    "\n",
    "    Args:\n",
    "        y: numpy array of shape=(N, )\n",
    "        tx: numpy array of shape=(N,2)\n",
    "        w: numpy array of shape=(2,). The vector of model parameters.\n",
    "\n",
    "    Returns:\n",
    "        the value of the loss (a scalar), corresponding to the input parameters w.\n",
    "    \"\"\"\n",
    "    # ***************************************************\n",
    "    # INSERT YOUR CODE HERE\n",
    "    # TODO: compute loss by MSE\n",
    "    # ***************************************************\n",
    "    e=y-tx@w\n",
    "    return e.T@e / (2*len(y))\n",
    "    "
   ]
  },
  {
   "cell_type": "code",
   "execution_count": 6,
   "metadata": {},
   "outputs": [
    {
     "data": {
      "text/plain": [
       "2694.483365887084"
      ]
     },
     "execution_count": 6,
     "metadata": {},
     "output_type": "execute_result"
    }
   ],
   "source": [
    "compute_loss(y,tx,[1,2])"
   ]
  },
  {
   "cell_type": "markdown",
   "metadata": {},
   "source": [
    "# 2. Grid Search"
   ]
  },
  {
   "cell_type": "markdown",
   "metadata": {},
   "source": [
    "Fill in the function `grid_search()` below:"
   ]
  },
  {
   "cell_type": "code",
   "execution_count": 7,
   "metadata": {},
   "outputs": [],
   "source": [
    "# from costs import *\n",
    "\n",
    "\n",
    "def grid_search(y, tx, grid_w0, grid_w1):\n",
    "    \"\"\"Algorithm for grid search.\n",
    "\n",
    "    Args:\n",
    "        y: numpy array of shape=(N, )\n",
    "        tx: numpy array of shape=(N,2)\n",
    "        grid_w0: numpy array of shape=(num_grid_pts_w0, ). A 1D array containing num_grid_pts_w0 values of parameter w0 to be tested in the grid search.\n",
    "        grid_w1: numpy array of shape=(num_grid_pts_w1, ). A 1D array containing num_grid_pts_w1 values of parameter w1 to be tested in the grid search.\n",
    "\n",
    "    Returns:\n",
    "        losses: numpy array of shape=(num_grid_pts_w0, num_grid_pts_w1). A 2D array containing the loss value for each combination of w0 and w1\n",
    "    \"\"\"\n",
    "\n",
    "    losses = np.zeros((len(grid_w0), len(grid_w1)))\n",
    "    # ***************************************************\n",
    "    # INSERT YOUR CODE HERE\n",
    "    # TODO: compute loss for each combination of w0 and w1.\n",
    "    # ***************************************************\n",
    "    for i in range(len(grid_w0)):\n",
    "        for j in range(len(grid_w1)):\n",
    "            losses[i,j]=compute_loss(y,tx,[grid_w0[i],grid_w1[j]])\n",
    "    \n",
    "    \n",
    "    \n",
    "    return losses"
   ]
  },
  {
   "cell_type": "code",
   "execution_count": null,
   "metadata": {},
   "outputs": [],
   "source": []
  },
  {
   "cell_type": "markdown",
   "metadata": {},
   "source": [
    "Let us play with the grid search demo now!"
   ]
  },
  {
   "cell_type": "code",
   "execution_count": 8,
   "metadata": {},
   "outputs": [
    {
     "name": "stdout",
     "output_type": "stream",
     "text": [
      "Grid Search: loss*=15.558703368609532, w0*=72.72727272727272, w1*=13.636363636363626, execution time=0.690 seconds\n"
     ]
    },
    {
     "data": {
      "image/png": "[encoded data removed]",
      "text/plain": [
       "<Figure size 1000x600 with 3 Axes>"
      ]
     },
     "metadata": {},
     "output_type": "display_data"
    }
   ],
   "source": [
    "from grid_search import generate_w, get_best_parameters\n",
    "from plots import grid_visualization\n",
    "\n",
    "# Generate the grid of parameters to be swept\n",
    "grid_w0, grid_w1 = generate_w(num_intervals=100)\n",
    "\n",
    "# Start the grid search\n",
    "start_time = datetime.datetime.now()\n",
    "grid_losses = grid_search(y, tx, grid_w0, grid_w1)\n",
    "\n",
    "# Select the best combinaison\n",
    "loss_star, w0_star, w1_star = get_best_parameters(grid_w0, grid_w1, grid_losses)\n",
    "end_time = datetime.datetime.now()\n",
    "execution_time = (end_time - start_time).total_seconds()\n",
    "\n",
    "# Print the results\n",
    "print(\n",
    "    \"Grid Search: loss*={l}, w0*={w0}, w1*={w1}, execution time={t:.3f} seconds\".format(\n",
    "        l=loss_star, w0=w0_star, w1=w1_star, t=execution_time\n",
    "    )\n",
    ")\n",
    "\n",
    "# Plot the results\n",
    "fig = grid_visualization(grid_losses, grid_w0, grid_w1, mean_x, std_x, height, weight)\n",
    "fig.set_size_inches(10.0, 6.0)\n",
    "fig.savefig(\"grid_plot\")  # Optional saving"
   ]
  },
  {
   "cell_type": "code",
   "execution_count": 9,
   "metadata": {},
   "outputs": [
    {
     "data": {
      "text/plain": [
       "array([ 1.94406149,  0.62753668,  2.01244346, ..., -0.64968792,\n",
       "        0.69312469, -1.14970831])"
      ]
     },
     "execution_count": 9,
     "metadata": {},
     "output_type": "execute_result"
    }
   ],
   "source": [
    "tx[:,1]"
   ]
  },
  {
   "cell_type": "markdown",
   "metadata": {},
   "source": [
    "# 3. Gradient Descent"
   ]
  },
  {
   "cell_type": "markdown",
   "metadata": {},
   "source": [
    "Again, please fill in the functions `compute_gradient` below:"
   ]
  },
  {
   "cell_type": "code",
   "execution_count": 10,
   "metadata": {},
   "outputs": [],
   "source": [
    "def compute_gradient(y, tx, w):\n",
    "    \"\"\"Computes the gradient at w.\n",
    "\n",
    "    Args:\n",
    "        y: numpy array of shape=(N, )\n",
    "        tx: numpy array of shape=(N,2)\n",
    "        w: numpy array of shape=(2, ). The vector of model parameters.\n",
    "\n",
    "    Returns:\n",
    "        An numpy array of shape (2, ) (same shape as w), containing the gradient of the loss at w.\n",
    "    \"\"\"\n",
    "    # ***************************************************\n",
    "    # INSERT YOUR CODE HERE\n",
    "    # TODO: compute gradient vector\n",
    "    # ***************************************************\n",
    "    e=y-tx@w\n",
    "    if isinstance(e,np.int64):\n",
    "        return -tx.T*e\n",
    "    else:\n",
    "        return -tx.T@e/len(y)\n",
    "    "
   ]
  },
  {
   "cell_type": "code",
   "execution_count": 11,
   "metadata": {},
   "outputs": [
    {
     "data": {
      "text/plain": [
       "(array([26.706078  ,  6.52028757]), array([-23.293922  ,  -3.47971243]))"
      ]
     },
     "execution_count": 11,
     "metadata": {},
     "output_type": "execute_result"
    }
   ],
   "source": [
    "compute_gradient(y,tx,[100,20]),compute_gradient(y,tx,[50,10])"
   ]
  },
  {
   "cell_type": "markdown",
   "metadata": {},
   "source": [
    "Please fill in the functions `gradient_descent` below:"
   ]
  },
  {
   "cell_type": "code",
   "execution_count": 12,
   "metadata": {},
   "outputs": [],
   "source": [
    "def gradient_descent(y, tx, initial_w, max_iters, gamma):\n",
    "    \"\"\"The Gradient Descent (GD) algorithm.\n",
    "\n",
    "    Args:\n",
    "        y: numpy array of shape=(N, )\n",
    "        tx: numpy array of shape=(N,2)\n",
    "        initial_w: numpy array of shape=(2, ). The initial guess (or the initialization) for the model parameters\n",
    "        max_iters: a scalar denoting the total number of iterations of GD\n",
    "        gamma: a scalar denoting the stepsize\n",
    "\n",
    "    Returns:\n",
    "        losses: a list of length max_iters containing the loss value (scalar) for each iteration of GD\n",
    "        ws: a list of length max_iters containing the model parameters as numpy arrays of shape (2, ), for each iteration of GD\n",
    "    \"\"\"\n",
    "    # Define parameters to store w and loss\n",
    "    ws = [initial_w]\n",
    "    losses = []\n",
    "    w = initial_w\n",
    "    for n_iter in range(max_iters):\n",
    "        # ***************************************************\n",
    "        # INSERT YOUR CODE HERE\n",
    "        # TODO: compute gradient and loss\n",
    "        # ***************************************************\n",
    "        gradient=compute_gradient(y,tx,w)\n",
    "        loss=compute_loss(y,tx,w)\n",
    "        # ***************************************************\n",
    "        # INSERT YOUR CODE HERE\n",
    "        # TODO: update w by gradient\n",
    "        # ***************************************************\n",
    "        w=w-gamma*gradient\n",
    "\n",
    "        # store w and loss\n",
    "        ws.append(w)\n",
    "        losses.append(loss)\n",
    "        print(\n",
    "            \"GD iter. {bi}/{ti}: loss={l}, w0={w0}, w1={w1}\".format(\n",
    "                bi=n_iter, ti=max_iters - 1, l=loss, w0=w[0], w1=w[1]\n",
    "            )\n",
    "        )\n",
    "\n",
    "    return losses, ws"
   ]
  },
  {
   "cell_type": "markdown",
   "metadata": {},
   "source": [
    "Test your gradient descent function through gradient descent demo shown below:"
   ]
  },
  {
   "cell_type": "code",
   "execution_count": 13,
   "metadata": {},
   "outputs": [
    {
     "name": "stdout",
     "output_type": "stream",
     "text": [
      "GD iter. 0/49: loss=2792.236712759167, w0=7.329392200210504, w1=1.3479712434989137\n",
      "GD iter. 1/49: loss=2264.635056030004, w0=13.925845180399968, w1=2.561145362647917\n",
      "GD iter. 2/49: loss=1837.2777140793814, w0=19.86265286257048, w1=3.6530020698820245\n",
      "GD iter. 3/49: loss=1491.118267099377, w0=25.205779776523947, w1=4.635673106392713\n",
      "GD iter. 4/49: loss=1210.729115045573, w0=30.014593999082074, w1=5.520077039252335\n",
      "GD iter. 5/49: loss=983.6139018819919, w0=34.34252679938438, w1=6.316040578825998\n",
      "GD iter. 6/49: loss=799.6505792194912, w0=38.23766631965647, w1=7.032407764442294\n",
      "GD iter. 7/49: loss=650.6402878628652, w0=41.743291887901336, w1=7.67713823149696\n",
      "GD iter. 8/49: loss=529.9419518639986, w0=44.89835489932172, w1=8.257395651846164\n",
      "GD iter. 9/49: loss=432.1762997049167, w0=47.73791160960007, w1=8.779627330160444\n",
      "GD iter. 10/49: loss=352.98612145606006, w0=50.29351264885058, w1=9.249635840643297\n",
      "GD iter. 11/49: loss=288.8420770744862, w0=52.59355358417604, w1=9.672643500077871\n",
      "GD iter. 12/49: loss=236.88540112541142, w0=54.663590425968955, w1=10.053350393568985\n",
      "GD iter. 13/49: loss=194.8004936066609, w0=56.52662358358258, w1=10.395986597710987\n",
      "GD iter. 14/49: loss=160.7117185164729, w0=58.20335342543484, w1=10.70435918143879\n",
      "GD iter. 15/49: loss=133.0998106934206, w0=59.712410283101875, w1=10.981894506793811\n",
      "GD iter. 16/49: loss=110.73416535674832, w0=61.070561455002206, w1=11.231676299613333\n",
      "GD iter. 17/49: loss=92.6179926340437, w0=62.2928975097125, w1=11.456479913150902\n",
      "GD iter. 18/49: loss=77.94389272865301, w0=63.39299995895177, w1=11.658803165334716\n",
      "GD iter. 19/49: loss=66.05787180528657, w0=64.38309216326711, w1=11.840894092300147\n",
      "GD iter. 20/49: loss=56.430194857359744, w0=65.27417514715091, w1=12.004775926569035\n",
      "GD iter. 21/49: loss=48.631776529538996, w0=66.07614983264634, w1=12.152269577411035\n",
      "GD iter. 22/49: loss=42.315057684004216, w0=66.79792704959222, w1=12.285013863168833\n",
      "GD iter. 23/49: loss=37.198515419121016, w0=67.44752654484351, w1=12.404483720350854\n",
      "GD iter. 24/49: loss=33.054116184565636, w0=68.03216609056967, w1=12.512006591814673\n",
      "GD iter. 25/49: loss=29.69715280457578, w0=68.55834168172322, w1=12.60877717613211\n",
      "GD iter. 26/49: loss=26.978012466783998, w0=69.03189971376142, w1=12.695870702017803\n",
      "GD iter. 27/49: loss=24.77550879317262, w0=69.45810194259579, w1=12.774254875314927\n",
      "GD iter. 28/49: loss=22.99148081754743, w0=69.84168394854673, w1=12.84480063128234\n",
      "GD iter. 29/49: loss=21.546418157291, w0=70.18690775390257, w1=12.90829181165301\n",
      "GD iter. 30/49: loss=20.375917402483303, w0=70.49760917872284, w1=12.965433873986614\n",
      "GD iter. 31/49: loss=19.427811791089052, w0=70.77724046106107, w1=13.016861730086857\n",
      "GD iter. 32/49: loss=18.659846245859733, w0=71.02890861516548, w1=13.063146800577076\n",
      "GD iter. 33/49: loss=18.037794154223977, w0=71.25540995385946, w1=13.104803364018274\n",
      "GD iter. 34/49: loss=17.53393195999899, w0=71.45926115868403, w1=13.14229427111535\n",
      "GD iter. 35/49: loss=17.125803582676767, w0=71.64272724302614, w1=13.17603608750272\n",
      "GD iter. 36/49: loss=16.795219597045776, w0=71.80784671893404, w1=13.206403722251352\n",
      "GD iter. 37/49: loss=16.527446568684667, w0=71.95645424725116, w1=13.23373459352512\n",
      "GD iter. 38/49: loss=16.31055041571217, w0=72.09020102273657, w1=13.258332377671513\n",
      "GD iter. 39/49: loss=16.13486453180444, w0=72.21057312067343, w1=13.280470383403266\n",
      "GD iter. 40/49: loss=15.992558965839175, w0=72.3189080088166, w1=13.300394588561844\n",
      "GD iter. 41/49: loss=15.877291457407319, w0=72.41640940814547, w1=13.318326373204563\n",
      "GD iter. 42/49: loss=15.783924775577514, w0=72.50416066754144, w1=13.334464979383013\n",
      "GD iter. 43/49: loss=15.70829776329537, w0=72.58313680099782, w1=13.348989724943616\n",
      "GD iter. 44/49: loss=15.647039883346832, w0=72.65421532110855, w1=13.362061995948158\n",
      "GD iter. 45/49: loss=15.597421000588522, w0=72.71818598920821, w1=13.373827039852248\n",
      "GD iter. 46/49: loss=15.557229705554294, w0=72.77575959049791, w1=13.384415579365928\n",
      "GD iter. 47/49: loss=15.524674756576562, w0=72.82757583165863, w1=13.39394526492824\n",
      "GD iter. 48/49: loss=15.498305247904606, w0=72.8742104487033, w1=13.40252198193432\n",
      "GD iter. 49/49: loss=15.476945945880312, w0=72.91618160404349, w1=13.410241027239794\n",
      "GD: execution time=0.025 seconds\n"
     ]
    }
   ],
   "source": [
    "# from gradient_descent import *\n",
    "from plots import gradient_descent_visualization\n",
    "\n",
    "# Define the parameters of the algorithm.\n",
    "max_iters = 50\n",
    "gamma = 0.1\n",
    "\n",
    "# Initialization\n",
    "w_initial = np.array([0, 0])\n",
    "\n",
    "# Start gradient descent.\n",
    "start_time = datetime.datetime.now()\n",
    "gd_losses, gd_ws = gradient_descent(y, tx, w_initial, max_iters, gamma)\n",
    "end_time = datetime.datetime.now()\n",
    "\n",
    "# Print result\n",
    "exection_time = (end_time - start_time).total_seconds()\n",
    "print(\"GD: execution time={t:.3f} seconds\".format(t=exection_time))"
   ]
  },
  {
   "cell_type": "code",
   "execution_count": 14,
   "metadata": {},
   "outputs": [
    {
     "data": {
      "application/vnd.jupyter.widget-view+json": {
       "model_id": "59705dbf80b6441c83b1f2afae540ece",
       "version_major": 2,
       "version_minor": 0
      },
      "text/plain": [
       "interactive(children=(IntSlider(value=1, description='n_iter', max=51, min=1), Output()), _dom_classes=('widge…"
      ]
     },
     "metadata": {},
     "output_type": "display_data"
    },
    {
     "data": {
      "text/plain": [
       "<function __main__.plot_figure(n_iter)>"
      ]
     },
     "execution_count": 14,
     "metadata": {},
     "output_type": "execute_result"
    }
   ],
   "source": [
    "# Time Visualization\n",
    "from ipywidgets import IntSlider, interact\n",
    "\n",
    "\n",
    "def plot_figure(n_iter):\n",
    "    fig = gradient_descent_visualization(\n",
    "        gd_losses,\n",
    "        gd_ws,\n",
    "        grid_losses,\n",
    "        grid_w0,\n",
    "        grid_w1,\n",
    "        mean_x,\n",
    "        std_x,\n",
    "        height,\n",
    "        weight,\n",
    "        n_iter,\n",
    "    )\n",
    "    fig.set_size_inches(10.0, 6.0)\n",
    "\n",
    "\n",
    "interact(plot_figure, n_iter=IntSlider(min=1, max=len(gd_ws)))"
   ]
  },
  {
   "cell_type": "code",
   "execution_count": 15,
   "metadata": {},
   "outputs": [
    {
     "data": {
      "text/plain": [
       "10000"
      ]
     },
     "execution_count": 15,
     "metadata": {},
     "output_type": "execute_result"
    }
   ],
   "source": [
    "len(y)"
   ]
  },
  {
   "cell_type": "code",
   "execution_count": 16,
   "metadata": {},
   "outputs": [
    {
     "data": {
      "text/plain": [
       "3545"
      ]
     },
     "execution_count": 16,
     "metadata": {},
     "output_type": "execute_result"
    }
   ],
   "source": [
    "index=np.random.choice(len(y),size=1)\n",
    "index[0]\n"
   ]
  },
  {
   "cell_type": "code",
   "execution_count": 17,
   "metadata": {},
   "outputs": [
    {
     "name": "stdout",
     "output_type": "stream",
     "text": [
      "[[ 1.          0.40617718]\n",
      " [ 1.         -0.77702107]\n",
      " [ 1.          0.50112466]\n",
      " [ 1.          0.82811964]\n",
      " [ 1.          0.02807192]]\n",
      "[79.14784876 57.45176615 82.50311889 92.53023529 89.7314698 ]\n"
     ]
    }
   ],
   "source": [
    "for minibatch_y, minibatch_tx in batch_iter(y, tx, 5):   \n",
    "    minibatch_y\n",
    "    minibatch_tx\n",
    "    \n",
    "print(minibatch_tx)\n",
    "print(minibatch_y)  "
   ]
  },
  {
   "cell_type": "markdown",
   "metadata": {
    "collapsed": true
   },
   "source": [
    "# 4. Stochastic gradient descent"
   ]
  },
  {
   "cell_type": "code",
   "execution_count": 18,
   "metadata": {},
   "outputs": [],
   "source": [
    "def compute_stoch_gradient(y, tx, w):\n",
    "    \"\"\"Compute a stochastic gradient at w from just few examples n and their corresponding y_n labels.\n",
    "\n",
    "    Args:\n",
    "        y: numpy array of shape=(N, )\n",
    "        tx: numpy array of shape=(N,2)\n",
    "        w: numpy array of shape=(2, ). The vector of model parameters.\n",
    "\n",
    "    Returns:\n",
    "        A numpy array of shape (2, ) (same shape as w), containing the stochastic gradient of the loss at w.\n",
    "    \"\"\"\n",
    "\n",
    "    # ***************************************************\n",
    "    # INSERT YOUR CODE HERE\n",
    "    # TODO: implement stochastic gradient computation. It's the same as the usual gradient.\n",
    "    # ***************************************************\n",
    "    return compute_gradient(y,tx,w)\n",
    "    \n",
    "\n",
    "\n",
    "def stochastic_gradient_descent(y, tx, initial_w, batch_size, max_iters, gamma):\n",
    "    \"\"\"The Stochastic Gradient Descent algorithm (SGD).\n",
    "\n",
    "    Args:\n",
    "        y: numpy array of shape=(N, )\n",
    "        tx: numpy array of shape=(N,2)\n",
    "        initial_w: numpy array of shape=(2, ). The initial guess (or the initialization) for the model parameters\n",
    "        batch_size: a scalar denoting the number of data points in a mini-batch used for computing the stochastic gradient\n",
    "        max_iters: a scalar denoting the total number of iterations of SGD\n",
    "        gamma: a scalar denoting the stepsize\n",
    "\n",
    "    Returns:\n",
    "        losses: a list of length max_iters containing the loss value (scalar) for each iteration of SGD\n",
    "        ws: a list of length max_iters containing the model parameters as numpy arrays of shape (2, ), for each iteration of SGD\n",
    "    \"\"\"\n",
    "\n",
    "    # Define parameters to store w and loss\n",
    "    ws = [initial_w]\n",
    "    losses = []\n",
    "    w = initial_w\n",
    "\n",
    "    for n_iter in range(max_iters):\n",
    "        # ***************************************************\n",
    "        # INSERT YOUR CODE HERE\n",
    "        # TODO: implement stochastic gradient descent.\n",
    "        # ***************************************************\n",
    "        for minibatch_y, minibatch_tx in batch_iter(y, tx, batch_size):   \n",
    "            minibatch_y\n",
    "            minibatch_tx\n",
    "        s_gradient = compute_stoch_gradient(minibatch_y,minibatch_tx,w)\n",
    "        loss = compute_loss(y,tx,w)\n",
    "        w = w-gamma*s_gradient\n",
    "        ws.append(w)\n",
    "        losses.append(loss)\n",
    "\n",
    "        print(\n",
    "            \"SGD iter. {bi}/{ti}: loss={l}, w0={w0}, w1={w1}\".format(\n",
    "                bi=n_iter, ti=max_iters - 1, l=loss, w0=w[0], w1=w[1]\n",
    "            )\n",
    "        )\n",
    "    return losses, ws"
   ]
  },
  {
   "cell_type": "code",
   "execution_count": 19,
   "metadata": {},
   "outputs": [
    {
     "name": "stdout",
     "output_type": "stream",
     "text": [
      "SGD iter. 0/49: loss=2792.236712759167, w0=5.886482056058371, w1=-3.9789339216642583\n",
      "SGD iter. 1/49: loss=2439.6695342121243, w0=14.309797502814167, w1=3.2947328863374246\n",
      "SGD iter. 2/49: loss=1806.8162635459862, w0=21.534608480327957, w1=13.513421900913254\n",
      "SGD iter. 3/49: loss=1354.8997241556917, w0=26.44884744490917, w1=19.670503507541348\n",
      "SGD iter. 4/49: loss=1131.7793400554533, w0=30.706843716854568, w1=21.462107818680078\n",
      "SGD iter. 5/49: loss=954.0748243366481, w0=34.94475897755658, w1=24.474128626316773\n",
      "SGD iter. 6/49: loss=811.1536339045977, w0=38.80610146135152, w1=23.27918140512235\n",
      "SGD iter. 7/49: loss=658.105566742748, w0=43.7404046757854, w1=15.305677301274393\n",
      "SGD iter. 8/49: loss=453.75815489382575, w0=46.98958365959729, w1=16.22803217941531\n",
      "SGD iter. 9/49: loss=365.1216263961968, w0=49.96380474350414, w1=13.774945231570054\n",
      "SGD iter. 10/49: loss=287.57665472095516, w0=51.981860631074376, w1=15.945410251666054\n",
      "SGD iter. 11/49: loss=245.5277006717042, w0=55.073099693712294, w1=13.847217818757457\n",
      "SGD iter. 12/49: loss=181.4526007693929, w0=55.59414177049008, w1=14.608831270661208\n",
      "SGD iter. 13/49: loss=172.66445266510073, w0=57.981632703929144, w1=15.738578104772614\n",
      "SGD iter. 14/49: loss=135.17022670141117, w0=59.41232813490436, w1=15.13597667308742\n",
      "SGD iter. 15/49: loss=113.10681762898508, w0=61.288919115794606, w1=14.912077321920075\n",
      "SGD iter. 16/49: loss=88.4717696036486, w0=63.55659342812433, w1=14.35391213653133\n",
      "SGD iter. 17/49: loss=63.17578430674977, w0=65.10813847558134, w1=13.069645963512507\n",
      "SGD iter. 18/49: loss=48.973491095898616, w0=65.8518166809633, w1=13.323352859437732\n",
      "SGD iter. 19/49: loss=43.090577832746945, w0=65.79378576933611, w1=13.33382596165999\n",
      "SGD iter. 20/49: loss=43.522551055427364, w0=67.24067742667698, w1=13.580296744538142\n",
      "SGD iter. 21/49: loss=33.71183141546864, w0=66.99652164139346, w1=13.571900422378633\n",
      "SGD iter. 22/49: loss=35.218762832885005, w0=68.09190805353322, w1=15.37358248604372\n",
      "SGD iter. 23/49: loss=30.709734314539006, w0=68.33752360289638, w1=15.280436110448017\n",
      "SGD iter. 24/49: loss=29.29013329234845, w0=70.08033406006004, w1=12.402265704296308\n",
      "SGD iter. 25/49: loss=21.129907328198623, w0=70.32558917446053, w1=12.744975521046516\n",
      "SGD iter. 26/49: loss=20.061306923020755, w0=70.3762569501793, w1=12.775349827600637\n",
      "SGD iter. 27/49: loss=19.89033588778776, w0=70.43986379374887, w1=12.784430785188238\n",
      "SGD iter. 28/49: loss=19.700420283447308, w0=69.68095156195001, w1=12.578198293276252\n",
      "SGD iter. 29/49: loss=22.31902944340103, w0=69.75486003715574, w1=12.466482054840931\n",
      "SGD iter. 30/49: loss=22.16168556633289, w0=70.63047176299513, w1=13.501081404474585\n",
      "SGD iter. 31/49: loss=18.93309977336556, w0=70.78787308163787, w1=13.732413529443129\n",
      "SGD iter. 32/49: loss=18.557957386286258, w0=70.9571775946244, w1=13.53723932186596\n",
      "SGD iter. 33/49: loss=18.117729753132654, w0=71.70939391137146, w1=13.588344580325401\n",
      "SGD iter. 34/49: loss=16.64715297549172, w0=72.13423384513713, w1=14.16334275865762\n",
      "SGD iter. 35/49: loss=16.292001389254985, w0=72.00449842831168, w1=14.324296027131197\n",
      "SGD iter. 36/49: loss=16.573855167214486, w0=73.12250987603004, w1=15.372392198697518\n",
      "SGD iter. 37/49: loss=17.19169727128798, w0=71.96301644286096, w1=14.962062526853522\n",
      "SGD iter. 38/49: loss=17.3702235700683, w0=72.48212890754108, w1=14.423029721951549\n",
      "SGD iter. 39/49: loss=16.16031563496153, w0=71.60335730017685, w1=14.144076615338355\n",
      "SGD iter. 40/49: loss=17.035582256598026, w0=72.1270070619519, w1=14.491465716249236\n",
      "SGD iter. 41/49: loss=16.578555458676256, w0=71.90409400355837, w1=14.268095935055513\n",
      "SGD iter. 42/49: loss=16.662473073190256, w0=72.55136272346455, w1=14.964327325921705\n",
      "SGD iter. 43/49: loss=16.763625697166546, w0=72.7985233662332, w1=15.030180621574143\n",
      "SGD iter. 44/49: loss=16.710573571847547, w0=71.99571317502185, w1=15.56508232565934\n",
      "SGD iter. 45/49: loss=18.402944738645065, w0=72.38585787147967, w1=15.823904204749308\n",
      "SGD iter. 46/49: loss=18.54579562819961, w0=71.45133763285915, w1=15.76140003304857\n",
      "SGD iter. 47/49: loss=19.686495595293632, w0=71.00048141634844, w1=15.891728204667851\n",
      "SGD iter. 48/49: loss=20.92473276561716, w0=71.08443174956096, w1=15.841969452001265\n",
      "SGD iter. 49/49: loss=20.61694056408511, w0=71.30063958748282, w1=15.883690296269643\n",
      "SGD: execution time=0.037 seconds\n"
     ]
    }
   ],
   "source": [
    "# from stochastic_gradient_descent import *\n",
    "\n",
    "# Define the parameters of the algorithm.\n",
    "max_iters = 50\n",
    "gamma = 0.1\n",
    "batch_size = 1\n",
    "\n",
    "# Initialization\n",
    "w_initial = np.array([0, 0])\n",
    "\n",
    "# Start SGD.\n",
    "start_time = datetime.datetime.now()\n",
    "sgd_losses, sgd_ws = stochastic_gradient_descent(\n",
    "    y, tx, w_initial, batch_size, max_iters, gamma\n",
    ")\n",
    "end_time = datetime.datetime.now()\n",
    "\n",
    "# Print result\n",
    "exection_time = (end_time - start_time).total_seconds()\n",
    "print(\"SGD: execution time={t:.3f} seconds\".format(t=exection_time))"
   ]
  },
  {
   "cell_type": "code",
   "execution_count": 20,
   "metadata": {},
   "outputs": [
    {
     "data": {
      "application/vnd.jupyter.widget-view+json": {
       "model_id": "139fb00b351e4e3a8a1b5bba583dea43",
       "version_major": 2,
       "version_minor": 0
      },
      "text/plain": [
       "interactive(children=(IntSlider(value=1, description='n_iter', max=51, min=1), Output()), _dom_classes=('widge…"
      ]
     },
     "metadata": {},
     "output_type": "display_data"
    },
    {
     "data": {
      "text/plain": [
       "<function __main__.plot_figure(n_iter)>"
      ]
     },
     "execution_count": 20,
     "metadata": {},
     "output_type": "execute_result"
    }
   ],
   "source": [
    "# Time Visualization\n",
    "from ipywidgets import IntSlider, interact\n",
    "\n",
    "\n",
    "def plot_figure(n_iter):\n",
    "    fig = gradient_descent_visualization(\n",
    "        sgd_losses,\n",
    "        sgd_ws,\n",
    "        grid_losses,\n",
    "        grid_w0,\n",
    "        grid_w1,\n",
    "        mean_x,\n",
    "        std_x,\n",
    "        height,\n",
    "        weight,\n",
    "        n_iter,\n",
    "    )\n",
    "    fig.set_size_inches(10.0, 6.0)\n",
    "\n",
    "\n",
    "interact(plot_figure, n_iter=IntSlider(min=1, max=len(sgd_ws)))"
   ]
  },
  {
   "cell_type": "code",
   "execution_count": 21,
   "metadata": {},
   "outputs": [
    {
     "data": {
      "text/plain": [
       "<generator object batch_iter at 0x7fb8247a14a0>"
      ]
     },
     "execution_count": 21,
     "metadata": {},
     "output_type": "execute_result"
    }
   ],
   "source": [
    "a=batch_iter(y, tx, batch_size=3, num_batches=1, shuffle=True)\n",
    "a"
   ]
  },
  {
   "cell_type": "markdown",
   "metadata": {},
   "source": [
    "# 5. Effect of Outliers and MAE Cost Function"
   ]
  },
  {
   "cell_type": "code",
   "execution_count": 22,
   "metadata": {},
   "outputs": [],
   "source": [
    "import datetime\n",
    "from helpers import *\n",
    "\n",
    "# ***************************************************\n",
    "# INSERT YOUR CODE HERE\n",
    "# TODO: reload the data by subsampling first, then by subsampling and adding outliers\n",
    "# ***************************************************\n",
    "\n",
    "height, weight, gender = load_data(sub_sample=True, add_outlier=True)\n",
    "\n",
    "\n",
    "x, mean_x, std_x = standardize(height)\n",
    "y, tx = build_model_data(x, weight)"
   ]
  },
  {
   "cell_type": "code",
   "execution_count": 23,
   "metadata": {},
   "outputs": [
    {
     "data": {
      "text/plain": [
       "((202,), (202, 2))"
      ]
     },
     "execution_count": 23,
     "metadata": {},
     "output_type": "execute_result"
    }
   ],
   "source": [
    "y.shape, tx.shape"
   ]
  },
  {
   "cell_type": "code",
   "execution_count": 24,
   "metadata": {},
   "outputs": [
    {
     "name": "stdout",
     "output_type": "stream",
     "text": [
      "GD iter. 0/49: loss=2869.8351145358524, w0=51.84746409844842, w1=7.7244264061924195\n",
      "GD iter. 1/49: loss=318.2821247015965, w0=67.40170332798297, w1=10.041754328050114\n",
      "GD iter. 2/49: loss=88.6423556165128, w0=72.06797509684336, w1=10.736952704607411\n",
      "GD iter. 3/49: loss=67.9747763988552, w0=73.46785662750146, w1=10.945512217574597\n",
      "GD iter. 4/49: loss=66.11469426926604, w0=73.88782108669889, w1=11.00808007146475\n",
      "GD iter. 5/49: loss=65.94728687760302, w0=74.01381042445813, w1=11.026850427631798\n",
      "GD iter. 6/49: loss=65.93222021235334, w0=74.0516072257859, w1=11.032481534481914\n",
      "GD iter. 7/49: loss=65.93086421248087, w0=74.06294626618423, w1=11.034170866536945\n",
      "GD iter. 8/49: loss=65.93074217249234, w0=74.06634797830372, w1=11.034677666153454\n",
      "GD iter. 9/49: loss=65.93073118889338, w0=74.06736849193958, w1=11.034829706038408\n",
      "GD iter. 10/49: loss=65.93073020036947, w0=74.06767464603033, w1=11.034875318003895\n",
      "GD iter. 11/49: loss=65.93073011140231, w0=74.06776649225755, w1=11.034889001593541\n",
      "GD iter. 12/49: loss=65.93073010339529, w0=74.06779404612573, w1=11.034893106670431\n",
      "GD iter. 13/49: loss=65.93073010267466, w0=74.06780231228618, w1=11.034894338193501\n",
      "GD iter. 14/49: loss=65.93073010260979, w0=74.06780479213431, w1=11.034894707650421\n",
      "GD iter. 15/49: loss=65.93073010260395, w0=74.06780553608874, w1=11.034894818487496\n",
      "GD iter. 16/49: loss=65.93073010260342, w0=74.06780575927507, w1=11.03489485173862\n",
      "GD iter. 17/49: loss=65.93073010260339, w0=74.06780582623098, w1=11.034894861713957\n",
      "GD iter. 18/49: loss=65.93073010260336, w0=74.06780584631775, w1=11.034894864706557\n",
      "GD iter. 19/49: loss=65.93073010260338, w0=74.06780585234378, w1=11.034894865604338\n",
      "GD iter. 20/49: loss=65.93073010260338, w0=74.06780585415159, w1=11.034894865873675\n",
      "GD iter. 21/49: loss=65.93073010260336, w0=74.06780585469393, w1=11.034894865954474\n",
      "GD iter. 22/49: loss=65.93073010260338, w0=74.06780585485663, w1=11.034894865978712\n",
      "GD iter. 23/49: loss=65.93073010260336, w0=74.06780585490544, w1=11.034894865985985\n",
      "GD iter. 24/49: loss=65.93073010260338, w0=74.0678058549201, w1=11.034894865988166\n",
      "GD iter. 25/49: loss=65.93073010260338, w0=74.06780585492449, w1=11.034894865988822\n",
      "GD iter. 26/49: loss=65.93073010260338, w0=74.06780585492581, w1=11.034894865989015\n",
      "GD iter. 27/49: loss=65.93073010260338, w0=74.06780585492619, w1=11.034894865989076\n",
      "GD iter. 28/49: loss=65.93073010260338, w0=74.06780585492632, w1=11.034894865989099\n",
      "GD iter. 29/49: loss=65.93073010260339, w0=74.06780585492635, w1=11.0348948659891\n",
      "GD iter. 30/49: loss=65.93073010260338, w0=74.06780585492636, w1=11.0348948659891\n",
      "GD iter. 31/49: loss=65.93073010260339, w0=74.06780585492636, w1=11.0348948659891\n",
      "GD iter. 32/49: loss=65.93073010260339, w0=74.06780585492636, w1=11.0348948659891\n",
      "GD iter. 33/49: loss=65.93073010260339, w0=74.06780585492636, w1=11.0348948659891\n",
      "GD iter. 34/49: loss=65.93073010260339, w0=74.06780585492636, w1=11.0348948659891\n",
      "GD iter. 35/49: loss=65.93073010260339, w0=74.06780585492636, w1=11.0348948659891\n",
      "GD iter. 36/49: loss=65.93073010260339, w0=74.06780585492636, w1=11.0348948659891\n",
      "GD iter. 37/49: loss=65.93073010260339, w0=74.06780585492636, w1=11.0348948659891\n",
      "GD iter. 38/49: loss=65.93073010260339, w0=74.06780585492636, w1=11.0348948659891\n",
      "GD iter. 39/49: loss=65.93073010260339, w0=74.06780585492636, w1=11.0348948659891\n",
      "GD iter. 40/49: loss=65.93073010260339, w0=74.06780585492636, w1=11.0348948659891\n",
      "GD iter. 41/49: loss=65.93073010260339, w0=74.06780585492636, w1=11.0348948659891\n",
      "GD iter. 42/49: loss=65.93073010260339, w0=74.06780585492636, w1=11.0348948659891\n",
      "GD iter. 43/49: loss=65.93073010260339, w0=74.06780585492636, w1=11.0348948659891\n",
      "GD iter. 44/49: loss=65.93073010260339, w0=74.06780585492636, w1=11.0348948659891\n",
      "GD iter. 45/49: loss=65.93073010260339, w0=74.06780585492636, w1=11.0348948659891\n",
      "GD iter. 46/49: loss=65.93073010260339, w0=74.06780585492636, w1=11.0348948659891\n",
      "GD iter. 47/49: loss=65.93073010260339, w0=74.06780585492636, w1=11.0348948659891\n",
      "GD iter. 48/49: loss=65.93073010260339, w0=74.06780585492636, w1=11.0348948659891\n",
      "GD iter. 49/49: loss=65.93073010260339, w0=74.06780585492636, w1=11.0348948659891\n",
      "GD: execution time=0.005 seconds\n"
     ]
    }
   ],
   "source": [
    "from plots import gradient_descent_visualization\n",
    "\n",
    "# Define the parameters of the algorithm.\n",
    "max_iters = 50\n",
    "gamma = 0.7\n",
    "\n",
    "# Initialization\n",
    "w_initial = np.array([0, 0])\n",
    "\n",
    "# Start gradient descent.\n",
    "start_time = datetime.datetime.now()\n",
    "\n",
    "# ***************************************************\n",
    "# INSERT YOUR CODE HERE\n",
    "# TODO: fit the model to the subsampled data / subsampled data with outliers and visualize the cloud of points\n",
    "#       and the model fit\n",
    "# ***************************************************\n",
    "gd_losses, gd_ws=gradient_descent(y, tx, w_initial, max_iters, gamma)\n",
    "\n",
    "\n",
    "end_time = datetime.datetime.now()\n",
    "\n",
    "# Print result\n",
    "exection_time = (end_time - start_time).total_seconds()\n",
    "print(\"GD: execution time={t:.3f} seconds\".format(t=exection_time))"
   ]
  },
  {
   "cell_type": "code",
   "execution_count": 25,
   "metadata": {},
   "outputs": [
    {
     "data": {
      "application/vnd.jupyter.widget-view+json": {
       "model_id": "2d33572b934847e28fcc9dcc34cf57fd",
       "version_major": 2,
       "version_minor": 0
      },
      "text/plain": [
       "interactive(children=(IntSlider(value=1, description='n_iter', max=51, min=1), Output()), _dom_classes=('widge…"
      ]
     },
     "metadata": {},
     "output_type": "display_data"
    },
    {
     "data": {
      "text/plain": [
       "<function __main__.plot_figure(n_iter)>"
      ]
     },
     "execution_count": 25,
     "metadata": {},
     "output_type": "execute_result"
    }
   ],
   "source": [
    "# Time Visualization\n",
    "from ipywidgets import IntSlider, interact\n",
    "\n",
    "\n",
    "def plot_figure(n_iter):\n",
    "    fig = gradient_descent_visualization(\n",
    "        gd_losses,\n",
    "        gd_ws,\n",
    "        grid_losses,\n",
    "        grid_w0,\n",
    "        grid_w1,\n",
    "        mean_x,\n",
    "        std_x,\n",
    "        height,\n",
    "        weight,\n",
    "        n_iter,\n",
    "    )\n",
    "    fig.set_size_inches(10.0, 6.0)\n",
    "\n",
    "\n",
    "interact(plot_figure, n_iter=IntSlider(min=1, max=len(gd_ws)))"
   ]
  },
  {
   "cell_type": "markdown",
   "metadata": {
    "collapsed": true
   },
   "source": [
    "# 6. Subgradient descent"
   ]
  },
  {
   "cell_type": "code",
   "execution_count": 26,
   "metadata": {},
   "outputs": [],
   "source": [
    "def compute_loss(y, tx, w):\n",
    "    \"\"\"Calculate the loss using either MSE or MAE.\n",
    "\n",
    "    Args:\n",
    "        y: numpy array of shape=(N, )\n",
    "        tx: numpy array of shape=(N,2)\n",
    "        w: numpy array of shape=(2,). The vector of model parameters.\n",
    "\n",
    "    Returns:\n",
    "        the value of the loss (a scalar), corresponding to the input parameters w.\n",
    "    \"\"\"\n",
    "    # ***************************************************\n",
    "    # INSERT YOUR CODE HERE\n",
    "    # TODO: compute loss by MSE\n",
    "    # ***************************************************\n",
    "    e=y-tx@w\n",
    "    \n",
    "    return np.sum(np.abs(e)) / (2*len(y))"
   ]
  },
  {
   "cell_type": "code",
   "execution_count": 27,
   "metadata": {},
   "outputs": [],
   "source": [
    "def compute_subgradient_mae(y, tx, w):\n",
    "    \"\"\"Compute a subgradient of the MAE at w.\n",
    "\n",
    "    Args:\n",
    "        y: numpy array of shape=(N, )\n",
    "        tx: numpy array of shape=(N,2)\n",
    "        w: numpy array of shape=(2, ). The vector of model parameters.\n",
    "\n",
    "    Returns:\n",
    "        A numpy array of shape (2, ) (same shape as w), containing the subgradient of the MAE at w.\n",
    "    \"\"\"\n",
    "    # ***************************************************\n",
    "    # INSERT YOUR CODE HERE\n",
    "    # TODO: compute subgradient gradient vector for MAE\n",
    "    # ***************************************************\n",
    "    q_gradient = - tx\n",
    "    e=y-tx@w\n",
    "    h=np.ones(len(y))\n",
    "    h[e>0]=1\n",
    "    h[e<0]=-1\n",
    "    h[e==0]=0\n",
    "    \n",
    "    return h@q_gradient/(2*len(y))\n",
    "    "
   ]
  },
  {
   "cell_type": "code",
   "execution_count": 28,
   "metadata": {},
   "outputs": [],
   "source": [
    "def subgradient_descent(y, tx, initial_w, max_iters, gamma):\n",
    "    \"\"\"The SubGradient Descent (SubGD) algorithm.\n",
    "\n",
    "    Args:\n",
    "        y: numpy array of shape=(N, )\n",
    "        tx: numpy array of shape=(N,2)\n",
    "        initial_w: numpy array of shape=(2, ). The initial guess (or the initialization) for the model parameters\n",
    "        max_iters: a scalar denoting the total number of iterations of GD\n",
    "        gamma: a scalar denoting the stepsize\n",
    "\n",
    "    Returns:\n",
    "        losses: a list of length max_iters containing the loss value (scalar) for each iteration of SubGD\n",
    "        ws: a list of length max_iters containing the model parameters as numpy arrays of shape (2, ), for each iteration of SubGD\n",
    "    \"\"\"\n",
    "    # Define parameters to store w and loss\n",
    "    ws = [initial_w]\n",
    "    losses = []\n",
    "    w = initial_w\n",
    "    for n_iter in range(max_iters):\n",
    "        # ***************************************************\n",
    "        # INSERT YOUR CODE HERE\n",
    "        # TODO: compute subgradient and loss\n",
    "        # ***************************************************\n",
    "        subgradient = compute_subgradient_mae(y,tx,w)\n",
    "        loss = compute_loss(y,tx,w)\n",
    "        # ***************************************************\n",
    "        # INSERT YOUR CODE HERE\n",
    "        # TODO: update w by subgradient\n",
    "        # ***************************************************\n",
    "        w = w - gamma*subgradient\n",
    "\n",
    "        ws.append(w)\n",
    "        losses.append(loss)\n",
    "        print(\n",
    "            \"SubGD iter. {bi}/{ti}: loss={l}, w0={w0}, w1={w1}\".format(\n",
    "                bi=n_iter, ti=max_iters - 1, l=loss, w0=w[0], w1=w[1]\n",
    "            )\n",
    "        )\n",
    "\n",
    "    return losses, ws"
   ]
  },
  {
   "cell_type": "code",
   "execution_count": 29,
   "metadata": {},
   "outputs": [
    {
     "name": "stdout",
     "output_type": "stream",
     "text": [
      "SubGD iter. 0/99: loss=37.03390292746319, w0=0.75, w1=6.545918922418621e-16\n",
      "SubGD iter. 1/99: loss=36.65890292746319, w0=1.5, w1=1.3091837844837243e-15\n",
      "SubGD iter. 2/99: loss=36.28390292746319, w0=2.25, w1=1.9637756767255864e-15\n",
      "SubGD iter. 3/99: loss=35.90890292746319, w0=3.0, w1=2.6183675689674486e-15\n",
      "SubGD iter. 4/99: loss=35.53390292746319, w0=3.75, w1=3.2729594612093107e-15\n",
      "SubGD iter. 5/99: loss=35.15890292746319, w0=4.5, w1=3.927551353451173e-15\n",
      "SubGD iter. 6/99: loss=34.78390292746319, w0=5.25, w1=4.582143245693035e-15\n",
      "SubGD iter. 7/99: loss=34.40890292746319, w0=6.0, w1=5.236735137934897e-15\n",
      "SubGD iter. 8/99: loss=34.03390292746319, w0=6.75, w1=5.891327030176759e-15\n",
      "SubGD iter. 9/99: loss=33.65890292746319, w0=7.5, w1=6.545918922418621e-15\n",
      "SubGD iter. 10/99: loss=33.28390292746319, w0=8.25, w1=7.200510814660484e-15\n",
      "SubGD iter. 11/99: loss=32.90890292746319, w0=9.0, w1=7.855102706902346e-15\n",
      "SubGD iter. 12/99: loss=32.53390292746319, w0=9.75, w1=8.509694599144207e-15\n",
      "SubGD iter. 13/99: loss=32.15890292746319, w0=10.5, w1=9.164286491386068e-15\n",
      "SubGD iter. 14/99: loss=31.783902927463192, w0=11.25, w1=9.81887838362793e-15\n",
      "SubGD iter. 15/99: loss=31.408902927463192, w0=12.0, w1=1.0473470275869791e-14\n",
      "SubGD iter. 16/99: loss=31.033902927463192, w0=12.75, w1=1.1128062168111652e-14\n",
      "SubGD iter. 17/99: loss=30.658902927463192, w0=13.5, w1=1.1782654060353514e-14\n",
      "SubGD iter. 18/99: loss=30.283902927463192, w0=14.25, w1=1.2437245952595375e-14\n",
      "SubGD iter. 19/99: loss=29.908902927463192, w0=15.0, w1=1.3091837844837236e-14\n",
      "SubGD iter. 20/99: loss=29.533902927463192, w0=15.75, w1=1.3746429737079098e-14\n",
      "SubGD iter. 21/99: loss=29.158902927463192, w0=16.5, w1=1.440102162932096e-14\n",
      "SubGD iter. 22/99: loss=28.783902927463192, w0=17.25, w1=1.505561352156282e-14\n",
      "SubGD iter. 23/99: loss=28.408902927463192, w0=18.0, w1=1.5710205413804682e-14\n",
      "SubGD iter. 24/99: loss=28.033902927463192, w0=18.75, w1=1.6364797306046543e-14\n",
      "SubGD iter. 25/99: loss=27.658902927463192, w0=19.5, w1=1.7019389198288405e-14\n",
      "SubGD iter. 26/99: loss=27.283902927463192, w0=20.25, w1=1.7673981090530266e-14\n",
      "SubGD iter. 27/99: loss=26.908902927463192, w0=21.0, w1=1.8328572982772127e-14\n",
      "SubGD iter. 28/99: loss=26.533902927463192, w0=21.75, w1=1.898316487501399e-14\n",
      "SubGD iter. 29/99: loss=26.158902927463192, w0=22.5, w1=1.963775676725585e-14\n",
      "SubGD iter. 30/99: loss=25.783902927463192, w0=23.25, w1=2.029234865949771e-14\n",
      "SubGD iter. 31/99: loss=25.408902927463192, w0=24.0, w1=2.0946940551739573e-14\n",
      "SubGD iter. 32/99: loss=25.033902927463192, w0=24.75, w1=2.1601532443981434e-14\n",
      "SubGD iter. 33/99: loss=24.658902927463192, w0=25.5, w1=2.2256124336223295e-14\n",
      "SubGD iter. 34/99: loss=24.283902927463192, w0=26.25, w1=2.2910716228465157e-14\n",
      "SubGD iter. 35/99: loss=23.908902927463192, w0=27.0, w1=2.3565308120707018e-14\n",
      "SubGD iter. 36/99: loss=23.533902927463192, w0=27.75, w1=2.421990001294888e-14\n",
      "SubGD iter. 37/99: loss=23.158902927463192, w0=28.5, w1=2.487449190519074e-14\n",
      "SubGD iter. 38/99: loss=22.783902927463192, w0=29.25, w1=2.5529083797432602e-14\n",
      "SubGD iter. 39/99: loss=22.408902927463192, w0=30.0, w1=2.6183675689674463e-14\n",
      "SubGD iter. 40/99: loss=22.03390292746319, w0=30.75, w1=2.6838267581916325e-14\n",
      "SubGD iter. 41/99: loss=21.65890292746319, w0=31.5, w1=2.7492859474158186e-14\n",
      "SubGD iter. 42/99: loss=21.283902927463192, w0=32.25, w1=2.8147451366400047e-14\n",
      "SubGD iter. 43/99: loss=20.908902927463192, w0=33.0, w1=2.880204325864191e-14\n",
      "SubGD iter. 44/99: loss=20.53390292746319, w0=33.75, w1=2.9456635150883773e-14\n",
      "SubGD iter. 45/99: loss=20.15890292746319, w0=34.5, w1=3.0111227043125635e-14\n",
      "SubGD iter. 46/99: loss=19.78390292746319, w0=35.25, w1=3.0765818935367496e-14\n",
      "SubGD iter. 47/99: loss=19.40890292746319, w0=36.0, w1=3.142041082760936e-14\n",
      "SubGD iter. 48/99: loss=19.03390292746319, w0=36.75, w1=3.207500271985122e-14\n",
      "SubGD iter. 49/99: loss=18.65890292746319, w0=37.5, w1=3.272959461209308e-14\n",
      "SubGD iter. 50/99: loss=18.28390292746319, w0=38.25, w1=3.338418650433494e-14\n",
      "SubGD iter. 51/99: loss=17.90890292746319, w0=39.0, w1=3.40387783965768e-14\n",
      "SubGD iter. 52/99: loss=17.53390292746319, w0=39.75, w1=3.4693370288818664e-14\n",
      "SubGD iter. 53/99: loss=17.158902927463192, w0=40.5, w1=3.5347962181060525e-14\n",
      "SubGD iter. 54/99: loss=16.783902927463192, w0=41.25, w1=3.6002554073302387e-14\n",
      "SubGD iter. 55/99: loss=16.40890292746319, w0=42.0, w1=3.665714596554425e-14\n",
      "SubGD iter. 56/99: loss=16.03390292746319, w0=42.75, w1=3.731173785778611e-14\n",
      "SubGD iter. 57/99: loss=15.658902927463187, w0=43.5, w1=3.796632975002797e-14\n",
      "SubGD iter. 58/99: loss=15.28390292746319, w0=44.25, w1=3.862092164226983e-14\n",
      "SubGD iter. 59/99: loss=14.908902927463187, w0=45.0, w1=3.9275513534511694e-14\n",
      "SubGD iter. 60/99: loss=14.533902927463187, w0=45.75, w1=3.9930105426753555e-14\n",
      "SubGD iter. 61/99: loss=14.158902927463187, w0=46.5, w1=4.0584697318995416e-14\n",
      "SubGD iter. 62/99: loss=13.784654906814678, w0=47.242574257425744, w1=0.011944120369572866\n",
      "SubGD iter. 63/99: loss=13.416990581048267, w0=47.97772277227723, w1=0.03544900831060324\n",
      "SubGD iter. 64/99: loss=13.056326701951292, w0=48.71287128712872, w1=0.058953896251633615\n",
      "SubGD iter. 65/99: loss=12.697679103215354, w0=49.43316831683169, w1=0.10404176939446011\n",
      "SubGD iter. 66/99: loss=12.355006499348054, w0=50.13861386138615, w1=0.17055864951394892\n",
      "SubGD iter. 67/99: loss=12.020287891566342, w0=50.844059405940605, w1=0.23707552963343773\n",
      "SubGD iter. 68/99: loss=11.689385891184966, w0=51.534653465346544, w1=0.32587233951345707\n",
      "SubGD iter. 69/99: loss=11.368352282233657, w0=52.21039603960397, w1=0.432506271895447\n",
      "SubGD iter. 70/99: loss=11.05704946579082, w0=52.87871287128714, w1=0.5491491132258504\n",
      "SubGD iter. 71/99: loss=10.752362048523167, w0=53.532178217821794, w1=0.6830490844450186\n",
      "SubGD iter. 72/99: loss=10.456984569424499, w0=54.17821782178219, w1=0.8265137543672924\n",
      "SubGD iter. 73/99: loss=10.167512635574736, w0=54.81683168316833, w1=0.9765850693407008\n",
      "SubGD iter. 74/99: loss=9.882215262960317, w0=55.44059405940595, w1=1.1419069420375023\n",
      "SubGD iter. 75/99: loss=9.606080640416002, w0=56.04950495049506, w1=1.3226621140416028\n",
      "SubGD iter. 76/99: loss=9.34194528521293, w0=56.62871287128714, w1=1.5263511051837226\n",
      "SubGD iter. 77/99: loss=9.092223788203189, w0=57.200495049504966, w1=1.7354343797530685\n",
      "SubGD iter. 78/99: loss=8.846512688241637, w0=57.750000000000014, w1=1.9651930680173761\n",
      "SubGD iter. 79/99: loss=8.612934212866156, w0=58.28465346534655, w1=2.20190449492717\n",
      "SubGD iter. 80/99: loss=8.385515681511537, w0=58.80445544554457, w1=2.449980606236313\n",
      "SubGD iter. 81/99: loss=8.165951281378392, w0=59.309405940594075, w1=2.709508738468795\n",
      "SubGD iter. 82/99: loss=7.951358841345484, w0=59.806930693069326, w1=2.975083123790414\n",
      "SubGD iter. 83/99: loss=7.744039562781879, w0=60.25990099009903, w1=3.267354197954309\n",
      "SubGD iter. 84/99: loss=7.5517676402314295, w0=60.70544554455447, w1=3.5625948158852103\n",
      "SubGD iter. 85/99: loss=7.362409786616132, w0=61.14356435643566, w1=3.861922606450427\n",
      "SubGD iter. 86/99: loss=7.174712973596907, w0=61.58168316831685, w1=4.161250397015644\n",
      "SubGD iter. 87/99: loss=6.98821167132933, w0=62.00495049504952, w1=4.469829963996991\n",
      "SubGD iter. 88/99: loss=6.8057263976291305, w0=62.41336633663368, w1=4.785204047551382\n",
      "SubGD iter. 89/99: loss=6.629746778068649, w0=62.81435643564358, w1=5.099980787240369\n",
      "SubGD iter. 90/99: loss=6.457441793560619, w0=63.20792079207923, w1=5.418439464542016\n",
      "SubGD iter. 91/99: loss=6.286982907345389, w0=63.59405940594061, w1=5.743486383430338\n",
      "SubGD iter. 92/99: loss=6.1171438882830005, w0=63.980198019801996, w1=6.06853330231866\n",
      "SubGD iter. 93/99: loss=5.949783720758209, w0=64.34405940594061, w1=6.404926661502178\n",
      "SubGD iter. 94/99: loss=5.786079987141218, w0=64.70792079207922, w1=6.741320020685696\n",
      "SubGD iter. 95/99: loss=5.62237625352423, w0=65.07178217821783, w1=7.077713379869214\n",
      "SubGD iter. 96/99: loss=5.458672519907241, w0=65.43564356435644, w1=7.414106739052731\n",
      "SubGD iter. 97/99: loss=5.2980105143832485, w0=65.77722772277228, w1=7.756559411183027\n",
      "SubGD iter. 98/99: loss=5.143303682434677, w0=66.10396039603961, w1=8.105605636163327\n",
      "SubGD iter. 99/99: loss=4.990912011132402, w0=66.43069306930694, w1=8.454651861143628\n",
      "SubGD: execution time=0.008 seconds\n"
     ]
    }
   ],
   "source": [
    "# Define the parameters of the algorithm.\n",
    "max_iters = 100\n",
    "gamma = 1.5\n",
    "batch_size = 1\n",
    "\n",
    "# Initialization\n",
    "w_initial = np.array([0, 0])\n",
    "\n",
    "# Start SubSGD.\n",
    "start_time = datetime.datetime.now()\n",
    "subgd_losses, subgd_ws = subgradient_descent(y, tx, w_initial, max_iters, gamma)\n",
    "end_time = datetime.datetime.now()\n",
    "\n",
    "# Print result\n",
    "exection_time = (end_time - start_time).total_seconds()\n",
    "print(\"SubGD: execution time={t:.3f} seconds\".format(t=exection_time))"
   ]
  },
  {
   "cell_type": "code",
   "execution_count": 30,
   "metadata": {},
   "outputs": [
    {
     "data": {
      "application/vnd.jupyter.widget-view+json": {
       "model_id": "20edbf88b51046ba925b3f01b863b3ef",
       "version_major": 2,
       "version_minor": 0
      },
      "text/plain": [
       "interactive(children=(IntSlider(value=1, description='n_iter', max=101, min=1), Output()), _dom_classes=('widg…"
      ]
     },
     "metadata": {},
     "output_type": "display_data"
    },
    {
     "data": {
      "text/plain": [
       "<function __main__.plot_figure(n_iter)>"
      ]
     },
     "execution_count": 30,
     "metadata": {},
     "output_type": "execute_result"
    }
   ],
   "source": [
    "from ipywidgets import IntSlider, interact\n",
    "\n",
    "\n",
    "def plot_figure(n_iter):\n",
    "    fig = gradient_descent_visualization(\n",
    "        subgd_losses,\n",
    "        subgd_ws,\n",
    "        grid_losses,\n",
    "        grid_w0,\n",
    "        grid_w1,\n",
    "        mean_x,\n",
    "        std_x,\n",
    "        height,\n",
    "        weight,\n",
    "        n_iter,\n",
    "    )\n",
    "    fig.set_size_inches(10.0, 6.0)\n",
    "\n",
    "\n",
    "interact(plot_figure, n_iter=IntSlider(min=1, max=len(subgd_ws)))"
   ]
  },
  {
   "cell_type": "markdown",
   "metadata": {},
   "source": [
    "# Stochastic Subgradient Descent\n",
    "\n",
    "**NB** for the computation of the subgradient you can reuse the `compute_subgradient` method that you implemented above, just making sure that you pass in a minibatch as opposed to the full data."
   ]
  },
  {
   "cell_type": "code",
   "execution_count": 31,
   "metadata": {},
   "outputs": [],
   "source": [
    "def stochastic_subgradient_descent(y, tx, initial_w, batch_size, max_iters, gamma):\n",
    "    \"\"\"The Stochastic SubGradient Descent algorithm (SubSGD).\n",
    "\n",
    "    Args:\n",
    "        y: numpy array of shape=(N, )\n",
    "        tx: numpy array of shape=(N,2)\n",
    "        initial_w: numpy array of shape=(2, ). The initial guess (or the initialization) for the model parameters\n",
    "        batch_size: a scalar denoting the number of data points in a mini-batch used for computing the stochastic subgradient\n",
    "        max_iters: a scalar denoting the total number of iterations of SubSGD\n",
    "        gamma: a scalar denoting the stepsize\n",
    "\n",
    "    Returns:\n",
    "        losses: a list of length max_iters containing the loss value (scalar) for each iteration of SubSGD\n",
    "        ws: a list of length max_iters containing the model parameters as numpy arrays of shape (2, ), for each iteration of SubSGD\n",
    "    \"\"\"\n",
    "\n",
    "    # Define parameters to store w and loss\n",
    "    ws = [initial_w]\n",
    "    losses = []\n",
    "    w = initial_w\n",
    "\n",
    "    for n_iter in range(max_iters):\n",
    "        # ***************************************************\n",
    "        # INSERT YOUR CODE HERE\n",
    "        # TODO: implement stochastic subgradient descent.\n",
    "        # ***************************************************\n",
    "        raise NotImplementedError\n",
    "\n",
    "        print(\n",
    "            \"SubSGD iter. {bi}/{ti}: loss={l}, w0={w0}, w1={w1}\".format(\n",
    "                bi=n_iter, ti=max_iters - 1, l=loss, w0=w[0], w1=w[1]\n",
    "            )\n",
    "        )\n",
    "    return losses, ws"
   ]
  },
  {
   "cell_type": "code",
   "execution_count": 32,
   "metadata": {},
   "outputs": [
    {
     "ename": "NotImplementedError",
     "evalue": "",
     "output_type": "error",
     "traceback": [
      "\u001b[0;31m---------------------------------------------------------------------------\u001b[0m",
      "\u001b[0;31mNotImplementedError\u001b[0m                       Traceback (most recent call last)",
      "\u001b[1;32m/Users/alessiodesogus/Documents/GitHub/CS-433 Machine learning/labs/ex02/template/ex02_Haoyu.ipynb Cellule 47\u001b[0m line \u001b[0;36m1\n\u001b[1;32m      <a href='vscode-notebook-cell:/Users/alessiodesogus/Documents/GitHub/CS-433%20Machine%20learning/labs/ex02/template/ex02_Haoyu.ipynb#X64sZmlsZQ%3D%3D?line=8'>9</a>\u001b[0m \u001b[39m# Start SubSGD.\u001b[39;00m\n\u001b[1;32m     <a href='vscode-notebook-cell:/Users/alessiodesogus/Documents/GitHub/CS-433%20Machine%20learning/labs/ex02/template/ex02_Haoyu.ipynb#X64sZmlsZQ%3D%3D?line=9'>10</a>\u001b[0m start_time \u001b[39m=\u001b[39m datetime\u001b[39m.\u001b[39mdatetime\u001b[39m.\u001b[39mnow()\n\u001b[0;32m---> <a href='vscode-notebook-cell:/Users/alessiodesogus/Documents/GitHub/CS-433%20Machine%20learning/labs/ex02/template/ex02_Haoyu.ipynb#X64sZmlsZQ%3D%3D?line=10'>11</a>\u001b[0m subsgd_losses, subsgd_ws \u001b[39m=\u001b[39m stochastic_subgradient_descent(\n\u001b[1;32m     <a href='vscode-notebook-cell:/Users/alessiodesogus/Documents/GitHub/CS-433%20Machine%20learning/labs/ex02/template/ex02_Haoyu.ipynb#X64sZmlsZQ%3D%3D?line=11'>12</a>\u001b[0m     y, tx, w_initial, batch_size, max_iters, gamma\n\u001b[1;32m     <a href='vscode-notebook-cell:/Users/alessiodesogus/Documents/GitHub/CS-433%20Machine%20learning/labs/ex02/template/ex02_Haoyu.ipynb#X64sZmlsZQ%3D%3D?line=12'>13</a>\u001b[0m )\n\u001b[1;32m     <a href='vscode-notebook-cell:/Users/alessiodesogus/Documents/GitHub/CS-433%20Machine%20learning/labs/ex02/template/ex02_Haoyu.ipynb#X64sZmlsZQ%3D%3D?line=13'>14</a>\u001b[0m end_time \u001b[39m=\u001b[39m datetime\u001b[39m.\u001b[39mdatetime\u001b[39m.\u001b[39mnow()\n\u001b[1;32m     <a href='vscode-notebook-cell:/Users/alessiodesogus/Documents/GitHub/CS-433%20Machine%20learning/labs/ex02/template/ex02_Haoyu.ipynb#X64sZmlsZQ%3D%3D?line=15'>16</a>\u001b[0m \u001b[39m# Print result\u001b[39;00m\n",
      "\u001b[1;32m/Users/alessiodesogus/Documents/GitHub/CS-433 Machine learning/labs/ex02/template/ex02_Haoyu.ipynb Cellule 47\u001b[0m line \u001b[0;36m2\n\u001b[1;32m     <a href='vscode-notebook-cell:/Users/alessiodesogus/Documents/GitHub/CS-433%20Machine%20learning/labs/ex02/template/ex02_Haoyu.ipynb#X64sZmlsZQ%3D%3D?line=19'>20</a>\u001b[0m w \u001b[39m=\u001b[39m initial_w\n\u001b[1;32m     <a href='vscode-notebook-cell:/Users/alessiodesogus/Documents/GitHub/CS-433%20Machine%20learning/labs/ex02/template/ex02_Haoyu.ipynb#X64sZmlsZQ%3D%3D?line=21'>22</a>\u001b[0m \u001b[39mfor\u001b[39;00m n_iter \u001b[39min\u001b[39;00m \u001b[39mrange\u001b[39m(max_iters):\n\u001b[1;32m     <a href='vscode-notebook-cell:/Users/alessiodesogus/Documents/GitHub/CS-433%20Machine%20learning/labs/ex02/template/ex02_Haoyu.ipynb#X64sZmlsZQ%3D%3D?line=22'>23</a>\u001b[0m     \u001b[39m# ***************************************************\u001b[39;00m\n\u001b[1;32m     <a href='vscode-notebook-cell:/Users/alessiodesogus/Documents/GitHub/CS-433%20Machine%20learning/labs/ex02/template/ex02_Haoyu.ipynb#X64sZmlsZQ%3D%3D?line=23'>24</a>\u001b[0m     \u001b[39m# INSERT YOUR CODE HERE\u001b[39;00m\n\u001b[1;32m     <a href='vscode-notebook-cell:/Users/alessiodesogus/Documents/GitHub/CS-433%20Machine%20learning/labs/ex02/template/ex02_Haoyu.ipynb#X64sZmlsZQ%3D%3D?line=24'>25</a>\u001b[0m     \u001b[39m# TODO: implement stochastic subgradient descent.\u001b[39;00m\n\u001b[1;32m     <a href='vscode-notebook-cell:/Users/alessiodesogus/Documents/GitHub/CS-433%20Machine%20learning/labs/ex02/template/ex02_Haoyu.ipynb#X64sZmlsZQ%3D%3D?line=25'>26</a>\u001b[0m     \u001b[39m# ***************************************************\u001b[39;00m\n\u001b[0;32m---> <a href='vscode-notebook-cell:/Users/alessiodesogus/Documents/GitHub/CS-433%20Machine%20learning/labs/ex02/template/ex02_Haoyu.ipynb#X64sZmlsZQ%3D%3D?line=26'>27</a>\u001b[0m     \u001b[39mraise\u001b[39;00m \u001b[39mNotImplementedError\u001b[39;00m\n\u001b[1;32m     <a href='vscode-notebook-cell:/Users/alessiodesogus/Documents/GitHub/CS-433%20Machine%20learning/labs/ex02/template/ex02_Haoyu.ipynb#X64sZmlsZQ%3D%3D?line=28'>29</a>\u001b[0m     \u001b[39mprint\u001b[39m(\n\u001b[1;32m     <a href='vscode-notebook-cell:/Users/alessiodesogus/Documents/GitHub/CS-433%20Machine%20learning/labs/ex02/template/ex02_Haoyu.ipynb#X64sZmlsZQ%3D%3D?line=29'>30</a>\u001b[0m         \u001b[39m\"\u001b[39m\u001b[39mSubSGD iter. \u001b[39m\u001b[39m{bi}\u001b[39;00m\u001b[39m/\u001b[39m\u001b[39m{ti}\u001b[39;00m\u001b[39m: loss=\u001b[39m\u001b[39m{l}\u001b[39;00m\u001b[39m, w0=\u001b[39m\u001b[39m{w0}\u001b[39;00m\u001b[39m, w1=\u001b[39m\u001b[39m{w1}\u001b[39;00m\u001b[39m\"\u001b[39m\u001b[39m.\u001b[39mformat(\n\u001b[1;32m     <a href='vscode-notebook-cell:/Users/alessiodesogus/Documents/GitHub/CS-433%20Machine%20learning/labs/ex02/template/ex02_Haoyu.ipynb#X64sZmlsZQ%3D%3D?line=30'>31</a>\u001b[0m             bi\u001b[39m=\u001b[39mn_iter, ti\u001b[39m=\u001b[39mmax_iters \u001b[39m-\u001b[39m \u001b[39m1\u001b[39m, l\u001b[39m=\u001b[39mloss, w0\u001b[39m=\u001b[39mw[\u001b[39m0\u001b[39m], w1\u001b[39m=\u001b[39mw[\u001b[39m1\u001b[39m]\n\u001b[1;32m     <a href='vscode-notebook-cell:/Users/alessiodesogus/Documents/GitHub/CS-433%20Machine%20learning/labs/ex02/template/ex02_Haoyu.ipynb#X64sZmlsZQ%3D%3D?line=31'>32</a>\u001b[0m         )\n\u001b[1;32m     <a href='vscode-notebook-cell:/Users/alessiodesogus/Documents/GitHub/CS-433%20Machine%20learning/labs/ex02/template/ex02_Haoyu.ipynb#X64sZmlsZQ%3D%3D?line=32'>33</a>\u001b[0m     )\n\u001b[1;32m     <a href='vscode-notebook-cell:/Users/alessiodesogus/Documents/GitHub/CS-433%20Machine%20learning/labs/ex02/template/ex02_Haoyu.ipynb#X64sZmlsZQ%3D%3D?line=33'>34</a>\u001b[0m \u001b[39mreturn\u001b[39;00m losses, ws\n",
      "\u001b[0;31mNotImplementedError\u001b[0m: "
     ]
    }
   ],
   "source": [
    "# Define the parameters of the algorithm.\n",
    "max_iters = 500\n",
    "gamma = 0.7\n",
    "batch_size = 1\n",
    "\n",
    "# Initialization\n",
    "w_initial = np.array([0, 0])\n",
    "\n",
    "# Start SubSGD.\n",
    "start_time = datetime.datetime.now()\n",
    "subsgd_losses, subsgd_ws = stochastic_subgradient_descent(\n",
    "    y, tx, w_initial, batch_size, max_iters, gamma\n",
    ")\n",
    "end_time = datetime.datetime.now()\n",
    "\n",
    "# Print result\n",
    "exection_time = (end_time - start_time).total_seconds()\n",
    "print(\"SubSGD: execution time={t:.3f} seconds\".format(t=exection_time))"
   ]
  },
  {
   "cell_type": "code",
   "execution_count": null,
   "metadata": {},
   "outputs": [],
   "source": [
    "from ipywidgets import IntSlider, interact\n",
    "\n",
    "\n",
    "def plot_figure(n_iter):\n",
    "    fig = gradient_descent_visualization(\n",
    "        subsgd_losses,\n",
    "        subsgd_ws,\n",
    "        grid_losses,\n",
    "        grid_w0,\n",
    "        grid_w1,\n",
    "        mean_x,\n",
    "        std_x,\n",
    "        height,\n",
    "        weight,\n",
    "        n_iter,\n",
    "    )\n",
    "    fig.set_size_inches(10.0, 6.0)\n",
    "\n",
    "\n",
    "interact(plot_figure, n_iter=IntSlider(min=1, max=len(subsgd_ws)))"
   ]
  }
 ],
 "metadata": {
  "kernelspec": {
   "display_name": "Python 3",
   "language": "python",
   "name": "python3"
  },
  "language_info": {
   "codemirror_mode": {
    "name": "ipython",
    "version": 3
   },
   "file_extension": ".py",
   "mimetype": "text/x-python",
   "name": "python",
   "nbconvert_exporter": "python",
   "pygments_lexer": "ipython3",
   "version": "3.9.18"
  }
 },
 "nbformat": 4,
 "nbformat_minor": 1
}
